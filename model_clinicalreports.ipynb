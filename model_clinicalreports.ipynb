{
 "cells": [
  {
   "cell_type": "markdown",
   "metadata": {},
   "source": [
    "# COVID-19 Detection from Clinical Reports of patients"
   ]
  },
  {
   "cell_type": "code",
   "execution_count": 6,
   "metadata": {},
   "outputs": [],
   "source": [
    "import pandas as pd\n",
    "import tensorflow as tf\n",
    "from keras.models import Sequential\n",
    "from keras.layers import Dense, LSTM\n",
    "from numpy.random import uniform\n",
    "import matplotlib.pyplot as plt\n",
    "from sklearn.model_selection import train_test_split\n",
    "from sklearn.metrics import mean_squared_error\n",
    "from sklearn.preprocessing import LabelBinarizer, LabelEncoder\n",
    "from sklearn.preprocessing import MinMaxScaler\n",
    "from sklearn.feature_extraction.text import TfidfVectorizer\n",
    "from keras.models import Sequential\n",
    "from keras.layers import Dense, Flatten, Dropout,LeakyReLU\n",
    "from keras.callbacks import ModelCheckpoint"
   ]
  },
  {
   "cell_type": "code",
   "execution_count": 55,
   "metadata": {},
   "outputs": [],
   "source": [
    "from sklearn.naive_bayes import MultinomialNB\n",
    "from sklearn.svm import SVC\n",
    "from sklearn.ensemble import RandomForestClassifier, AdaBoostClassifier\n",
    "from sklearn.linear_model import LogisticRegression\n",
    "from sklearn.neighbors import KNeighborsClassifier\n",
    "from sklearn.model_selection import GridSearchCV\n",
    "from sklearn.tree import DecisionTreeClassifier\n",
    "from sklearn.pipeline import Pipeline\n",
    "from sklearn import model_selection\n",
    "from sklearn.metrics import accuracy_score, log_loss\n",
    "import sklearn\n",
    "from sklearn.metrics import confusion_matrix\n",
    "from imblearn.over_sampling import SVMSMOTE, SMOTE\n",
    "from nltk.stem import WordNetLemmatizer\n",
    "from nltk import word_tokenize\n",
    "import numpy as np\n",
    "import matplotlib.pyplot as plt\n",
    "%matplotlib inline"
   ]
  },
  {
   "cell_type": "code",
   "execution_count": 189,
   "metadata": {},
   "outputs": [],
   "source": [
    "import pickle\n",
    "import re\n",
    "import string\n",
    "import joblib"
   ]
  },
  {
   "cell_type": "markdown",
   "metadata": {},
   "source": [
    "# Loading, Filtering and Preprocessing Data"
   ]
  },
  {
   "cell_type": "code",
   "execution_count": 39,
   "metadata": {
    "scrolled": true
   },
   "outputs": [],
   "source": [
    "df = pd.read_csv(\"metadata_new.csv\",encoding='latin1')"
   ]
  },
  {
   "cell_type": "code",
   "execution_count": 40,
   "metadata": {},
   "outputs": [
    {
     "data": {
      "text/html": [
       "<div>\n",
       "<style scoped>\n",
       "    .dataframe tbody tr th:only-of-type {\n",
       "        vertical-align: middle;\n",
       "    }\n",
       "\n",
       "    .dataframe tbody tr th {\n",
       "        vertical-align: top;\n",
       "    }\n",
       "\n",
       "    .dataframe thead th {\n",
       "        text-align: right;\n",
       "    }\n",
       "</style>\n",
       "<table border=\"1\" class=\"dataframe\">\n",
       "  <thead>\n",
       "    <tr style=\"text-align: right;\">\n",
       "      <th></th>\n",
       "      <th>patientid</th>\n",
       "      <th>offset</th>\n",
       "      <th>sex</th>\n",
       "      <th>age</th>\n",
       "      <th>finding</th>\n",
       "      <th>survival</th>\n",
       "      <th>intubated</th>\n",
       "      <th>went_icu</th>\n",
       "      <th>needed_supplemental_O2</th>\n",
       "      <th>extubated</th>\n",
       "      <th>...</th>\n",
       "      <th>date</th>\n",
       "      <th>location</th>\n",
       "      <th>folder</th>\n",
       "      <th>filename</th>\n",
       "      <th>doi</th>\n",
       "      <th>url</th>\n",
       "      <th>license</th>\n",
       "      <th>clinical_notes</th>\n",
       "      <th>other_notes</th>\n",
       "      <th>Unnamed: 26</th>\n",
       "    </tr>\n",
       "  </thead>\n",
       "  <tbody>\n",
       "    <tr>\n",
       "      <th>0</th>\n",
       "      <td>NaN</td>\n",
       "      <td>NaN</td>\n",
       "      <td>NaN</td>\n",
       "      <td>NaN</td>\n",
       "      <td>NaN</td>\n",
       "      <td>NaN</td>\n",
       "      <td>NaN</td>\n",
       "      <td>NaN</td>\n",
       "      <td>NaN</td>\n",
       "      <td>NaN</td>\n",
       "      <td>...</td>\n",
       "      <td>NaN</td>\n",
       "      <td>NaN</td>\n",
       "      <td>NaN</td>\n",
       "      <td>NaN</td>\n",
       "      <td>NaN</td>\n",
       "      <td>NaN</td>\n",
       "      <td>NaN</td>\n",
       "      <td>NaN</td>\n",
       "      <td>NaN</td>\n",
       "      <td>NaN</td>\n",
       "    </tr>\n",
       "    <tr>\n",
       "      <th>1</th>\n",
       "      <td>2.0</td>\n",
       "      <td>0.0</td>\n",
       "      <td>M</td>\n",
       "      <td>65.0</td>\n",
       "      <td>COVID-19</td>\n",
       "      <td>Y</td>\n",
       "      <td>NaN</td>\n",
       "      <td>NaN</td>\n",
       "      <td>NaN</td>\n",
       "      <td>NaN</td>\n",
       "      <td>...</td>\n",
       "      <td>22-Jan-20</td>\n",
       "      <td>Cho Ray Hospital, Ho Chi Minh City, Vietnam</td>\n",
       "      <td>images</td>\n",
       "      <td>auntminnie-a-2020_01_28_23_51_6665_2020_01_28_...</td>\n",
       "      <td>10.1056/nejmc2001272</td>\n",
       "      <td>https://www.nejm.org/doi/full/10.1056/NEJMc200...</td>\n",
       "      <td>NaN</td>\n",
       "      <td>infiltrate in the upper lobe of the left lung</td>\n",
       "      <td>NaN</td>\n",
       "      <td>NaN</td>\n",
       "    </tr>\n",
       "    <tr>\n",
       "      <th>2</th>\n",
       "      <td>NaN</td>\n",
       "      <td>NaN</td>\n",
       "      <td>NaN</td>\n",
       "      <td>NaN</td>\n",
       "      <td>NaN</td>\n",
       "      <td>NaN</td>\n",
       "      <td>NaN</td>\n",
       "      <td>NaN</td>\n",
       "      <td>NaN</td>\n",
       "      <td>NaN</td>\n",
       "      <td>...</td>\n",
       "      <td>NaN</td>\n",
       "      <td>NaN</td>\n",
       "      <td>NaN</td>\n",
       "      <td>NaN</td>\n",
       "      <td>NaN</td>\n",
       "      <td>NaN</td>\n",
       "      <td>NaN</td>\n",
       "      <td>NaN</td>\n",
       "      <td>NaN</td>\n",
       "      <td>NaN</td>\n",
       "    </tr>\n",
       "    <tr>\n",
       "      <th>3</th>\n",
       "      <td>2.0</td>\n",
       "      <td>3.0</td>\n",
       "      <td>M</td>\n",
       "      <td>65.0</td>\n",
       "      <td>COVID-19</td>\n",
       "      <td>Y</td>\n",
       "      <td>NaN</td>\n",
       "      <td>NaN</td>\n",
       "      <td>NaN</td>\n",
       "      <td>NaN</td>\n",
       "      <td>...</td>\n",
       "      <td>25-Jan-20</td>\n",
       "      <td>Cho Ray Hospital, Ho Chi Minh City, Vietnam</td>\n",
       "      <td>images</td>\n",
       "      <td>auntminnie-b-2020_01_28_23_51_6665_2020_01_28_...</td>\n",
       "      <td>10.1056/nejmc2001272</td>\n",
       "      <td>https://www.nejm.org/doi/full/10.1056/NEJMc200...</td>\n",
       "      <td>NaN</td>\n",
       "      <td>progressive infiltrate and consolidation</td>\n",
       "      <td>NaN</td>\n",
       "      <td>NaN</td>\n",
       "    </tr>\n",
       "    <tr>\n",
       "      <th>4</th>\n",
       "      <td>NaN</td>\n",
       "      <td>NaN</td>\n",
       "      <td>NaN</td>\n",
       "      <td>NaN</td>\n",
       "      <td>NaN</td>\n",
       "      <td>NaN</td>\n",
       "      <td>NaN</td>\n",
       "      <td>NaN</td>\n",
       "      <td>NaN</td>\n",
       "      <td>NaN</td>\n",
       "      <td>...</td>\n",
       "      <td>NaN</td>\n",
       "      <td>NaN</td>\n",
       "      <td>NaN</td>\n",
       "      <td>NaN</td>\n",
       "      <td>NaN</td>\n",
       "      <td>NaN</td>\n",
       "      <td>NaN</td>\n",
       "      <td>NaN</td>\n",
       "      <td>NaN</td>\n",
       "      <td>NaN</td>\n",
       "    </tr>\n",
       "  </tbody>\n",
       "</table>\n",
       "<p>5 rows × 27 columns</p>\n",
       "</div>"
      ],
      "text/plain": [
       "   patientid  offset  sex   age   finding survival intubated went_icu  \\\n",
       "0        NaN     NaN  NaN   NaN       NaN      NaN       NaN      NaN   \n",
       "1        2.0     0.0    M  65.0  COVID-19        Y       NaN      NaN   \n",
       "2        NaN     NaN  NaN   NaN       NaN      NaN       NaN      NaN   \n",
       "3        2.0     3.0    M  65.0  COVID-19        Y       NaN      NaN   \n",
       "4        NaN     NaN  NaN   NaN       NaN      NaN       NaN      NaN   \n",
       "\n",
       "  needed_supplemental_O2 extubated  ...       date  \\\n",
       "0                    NaN       NaN  ...        NaN   \n",
       "1                    NaN       NaN  ...  22-Jan-20   \n",
       "2                    NaN       NaN  ...        NaN   \n",
       "3                    NaN       NaN  ...  25-Jan-20   \n",
       "4                    NaN       NaN  ...        NaN   \n",
       "\n",
       "                                      location  folder  \\\n",
       "0                                          NaN     NaN   \n",
       "1  Cho Ray Hospital, Ho Chi Minh City, Vietnam  images   \n",
       "2                                          NaN     NaN   \n",
       "3  Cho Ray Hospital, Ho Chi Minh City, Vietnam  images   \n",
       "4                                          NaN     NaN   \n",
       "\n",
       "                                            filename                   doi  \\\n",
       "0                                                NaN                   NaN   \n",
       "1  auntminnie-a-2020_01_28_23_51_6665_2020_01_28_...  10.1056/nejmc2001272   \n",
       "2                                                NaN                   NaN   \n",
       "3  auntminnie-b-2020_01_28_23_51_6665_2020_01_28_...  10.1056/nejmc2001272   \n",
       "4                                                NaN                   NaN   \n",
       "\n",
       "                                                 url license  \\\n",
       "0                                                NaN     NaN   \n",
       "1  https://www.nejm.org/doi/full/10.1056/NEJMc200...     NaN   \n",
       "2                                                NaN     NaN   \n",
       "3  https://www.nejm.org/doi/full/10.1056/NEJMc200...     NaN   \n",
       "4                                                NaN     NaN   \n",
       "\n",
       "                                  clinical_notes other_notes Unnamed: 26  \n",
       "0                                            NaN         NaN         NaN  \n",
       "1  infiltrate in the upper lobe of the left lung         NaN         NaN  \n",
       "2                                            NaN         NaN         NaN  \n",
       "3       progressive infiltrate and consolidation         NaN         NaN  \n",
       "4                                            NaN         NaN         NaN  \n",
       "\n",
       "[5 rows x 27 columns]"
      ]
     },
     "execution_count": 40,
     "metadata": {},
     "output_type": "execute_result"
    }
   ],
   "source": [
    "df.head()"
   ]
  },
  {
   "cell_type": "code",
   "execution_count": 41,
   "metadata": {},
   "outputs": [
    {
     "data": {
      "text/plain": [
       "608"
      ]
     },
     "execution_count": 41,
     "metadata": {},
     "output_type": "execute_result"
    }
   ],
   "source": [
    "len(df)"
   ]
  },
  {
   "cell_type": "code",
   "execution_count": 42,
   "metadata": {},
   "outputs": [],
   "source": [
    "#dropping rows with NaN value in clinical reports and finding column\n",
    "\n",
    "df = df.dropna(subset=['clinical_notes','finding'])"
   ]
  },
  {
   "cell_type": "code",
   "execution_count": 43,
   "metadata": {},
   "outputs": [
    {
     "data": {
      "text/plain": [
       "298"
      ]
     },
     "execution_count": 43,
     "metadata": {},
     "output_type": "execute_result"
    }
   ],
   "source": [
    "len(df)"
   ]
  },
  {
   "cell_type": "code",
   "execution_count": 44,
   "metadata": {},
   "outputs": [
    {
     "data": {
      "text/plain": [
       "(array([224.,   4.,  16.,  15.,  17.,   2.,   2.,   4.,  11.,   3.]),\n",
       " array([ 0.,  1.,  2.,  3.,  4.,  5.,  6.,  7.,  8.,  9., 10.]),\n",
       " <a list of 10 Patch objects>)"
      ]
     },
     "execution_count": 44,
     "metadata": {},
     "output_type": "execute_result"
    },
    {
     "data": {
      "image/png": "[encoded data removed]",
      "text/plain": [
       "<Figure size 432x288 with 1 Axes>"
      ]
     },
     "metadata": {
      "needs_background": "light"
     },
     "output_type": "display_data"
    }
   ],
   "source": [
    "#Analysing the types of epidemics in data\n",
    "plt.hist(df['finding'])"
   ]
  },
  {
   "cell_type": "code",
   "execution_count": 45,
   "metadata": {},
   "outputs": [],
   "source": [
    "#Dropping the findings which are less frequrnt and keeping only those with more than 10 frequency\n",
    "\n",
    "keep_list = ['COVID-19', 'SARS', 'Pneumocystis', 'Streptococcus','COVID-19, ARDS']\n",
    "df= df[df['finding'].isin(keep_list)]"
   ]
  },
  {
   "cell_type": "code",
   "execution_count": 46,
   "metadata": {},
   "outputs": [
    {
     "data": {
      "text/plain": [
       "283"
      ]
     },
     "execution_count": 46,
     "metadata": {},
     "output_type": "execute_result"
    }
   ],
   "source": [
    "len(df)"
   ]
  },
  {
   "cell_type": "code",
   "execution_count": 47,
   "metadata": {},
   "outputs": [
    {
     "data": {
      "text/plain": [
       "(array([224.,   0.,  16.,   0.,   0.,  15.,   0.,  17.,   0.,  11.]),\n",
       " array([0. , 0.4, 0.8, 1.2, 1.6, 2. , 2.4, 2.8, 3.2, 3.6, 4. ]),\n",
       " <a list of 10 Patch objects>)"
      ]
     },
     "execution_count": 47,
     "metadata": {},
     "output_type": "execute_result"
    },
    {
     "data": {
      "image/png": "[encoded data removed]",
      "text/plain": [
       "<Figure size 432x288 with 1 Axes>"
      ]
     },
     "metadata": {
      "needs_background": "light"
     },
     "output_type": "display_data"
    }
   ],
   "source": [
    "plt.hist(df['finding'])"
   ]
  },
  {
   "cell_type": "markdown",
   "metadata": {},
   "source": [
    "# Cleaning Data"
   ]
  },
  {
   "cell_type": "code",
   "execution_count": 49,
   "metadata": {},
   "outputs": [
    {
     "data": {
      "text/plain": [
       "'Male patient, 87 years old, hospitalized from 02/27 to 01/03/2020 with diagnosis of right heart failure in hypertensive heart disease and PM, regressed with diuretic therapy. At home, unproductive cough without fever. Progressive dyspnea for which he is transported to DEA on 07/03. Apiretic patient, bilateral middle-basal crepitations. Chest x - ray: bilateral middle - basal pulmonary parenchymal thickening, more evident on the right.'"
      ]
     },
     "execution_count": 49,
     "metadata": {},
     "output_type": "execute_result"
    }
   ],
   "source": [
    "df['clinical_notes'].tolist()[101]"
   ]
  },
  {
   "cell_type": "code",
   "execution_count": 191,
   "metadata": {},
   "outputs": [],
   "source": [
    "#Removing Date Strings\n",
    "\n",
    "def rem_date(text_data):\n",
    "    \n",
    "    date_rem_list=[]\n",
    "    for text in text_data:\n",
    "        t1 = re.sub('(\\w*\\s\\d*\\,\\s\\d*)', '', text)\n",
    "        t2 = re.sub('(\\d*\\-\\d*\\-\\d*)', '', t1)\n",
    "        t3 = re.sub('(\\d*\\/\\d*\\/\\d*)', '', t2)\n",
    "        t4 = re.sub('(\\d*\\,\\d*\\,\\d*)', '', t3)\n",
    "        t5 = re.sub('(\\d*\\/\\d*)','',t4)\n",
    "        date_rem_list.append(t5)\n",
    "    return date_rem_list"
   ]
  },
  {
   "cell_type": "code",
   "execution_count": null,
   "metadata": {},
   "outputs": [],
   "source": [
    "date_rem_list = rem_date(df['clinical_notes'].tolist())"
   ]
  },
  {
   "cell_type": "code",
   "execution_count": 52,
   "metadata": {},
   "outputs": [
    {
     "data": {
      "text/plain": [
       "'!\"#$%&\\'()*+,-./:;<=>?@[\\\\]^_`{|}~'"
      ]
     },
     "execution_count": 52,
     "metadata": {},
     "output_type": "execute_result"
    }
   ],
   "source": [
    "string.punctuation"
   ]
  },
  {
   "cell_type": "code",
   "execution_count": 192,
   "metadata": {},
   "outputs": [],
   "source": [
    "#Removing punctuations\n",
    "\n",
    "def rem_punc(text_data):\n",
    "    string_punctuation= string.punctuation.replace(\",\",\"\")\n",
    "    string_punctuation= string_punctuation.replace(\".\",\"\")\n",
    "    table = str.maketrans(string_punctuation, ' ' * len(string_punctuation))\n",
    "    punc_rem_list =[]\n",
    "    for text in text_data:\n",
    "        words = word_tokenize(text)\n",
    "        new_words=[]\n",
    "        for word in words:\n",
    "            new_words.append(word if word.replace('.', '', 1).isdigit() else word.translate(table).strip())\n",
    "        punc_removed = (\" \".join(new_words)).lstrip()\n",
    "        punc_rem_list.append(punc_removed)\n",
    "    return punc_rem_list"
   ]
  },
  {
   "cell_type": "code",
   "execution_count": null,
   "metadata": {},
   "outputs": [],
   "source": [
    "punc_rem_list = rem_punc(date_rem_list)"
   ]
  },
  {
   "cell_type": "code",
   "execution_count": 57,
   "metadata": {},
   "outputs": [
    {
     "data": {
      "text/plain": [
       "'In this case , CT images show multiple foci of ground glass opacities involving all pulmonary lobes , some of them associated with fine reticulation , with predominant distribution in the upper and middle lung zones , where part of the opacities are peripheral and other have a peribronchovascular distribution .'"
      ]
     },
     "execution_count": 57,
     "metadata": {},
     "output_type": "execute_result"
    }
   ],
   "source": [
    "punc_rem_list[210]"
   ]
  },
  {
   "cell_type": "code",
   "execution_count": 58,
   "metadata": {},
   "outputs": [],
   "source": [
    "notes_cleaned = punc_rem_list"
   ]
  },
  {
   "cell_type": "code",
   "execution_count": 59,
   "metadata": {},
   "outputs": [],
   "source": [
    "#Lemmatizing the words to avoid multiple forms of same word\n",
    "\n",
    "lemmatizer = WordNetLemmatizer()"
   ]
  },
  {
   "cell_type": "code",
   "execution_count": 193,
   "metadata": {},
   "outputs": [],
   "source": [
    "def word_lem(text_data):\n",
    "    final_notes = []\n",
    "    for sent in text_data:\n",
    "        words = word_tokenize(sent)\n",
    "        new_words = [lemmatizer.lemmatize(word) for word in words]\n",
    "        final_notes.append(\" \".join(new_words))\n",
    "    return final_notes"
   ]
  },
  {
   "cell_type": "code",
   "execution_count": null,
   "metadata": {},
   "outputs": [],
   "source": [
    "final_notes = word_lem(notes_cleaned)"
   ]
  },
  {
   "cell_type": "code",
   "execution_count": 61,
   "metadata": {},
   "outputs": [
    {
     "data": {
      "text/plain": [
       "'73 year old male patient . He enters Mortara s PS for a 10 day fever not responsive to paracetamol . WBC within limit , PCR not available PS radiography at Mortara Hospital fever indication . Feedback of right interstitial paracardial thickening with tendency to cavitation in it most cranial portion.Mild right hilar enlargement.The phlogistic infectious nature is hypothesized .'"
      ]
     },
     "execution_count": 61,
     "metadata": {},
     "output_type": "execute_result"
    }
   ],
   "source": [
    "final_notes[100]"
   ]
  },
  {
   "cell_type": "code",
   "execution_count": null,
   "metadata": {},
   "outputs": [],
   "source": []
  },
  {
   "cell_type": "markdown",
   "metadata": {},
   "source": [
    "# Using Label encoder to convert target column into Sparse labels"
   ]
  },
  {
   "cell_type": "code",
   "execution_count": 62,
   "metadata": {},
   "outputs": [],
   "source": [
    "le = LabelEncoder()\n",
    "le.fit(df['finding'])\n",
    "df['finding'] = le.transform(df['finding'])"
   ]
  },
  {
   "cell_type": "code",
   "execution_count": 63,
   "metadata": {},
   "outputs": [],
   "source": [
    "classes = le.inverse_transform(df['finding'])\n",
    "classes_ = np.unique(classes).tolist()"
   ]
  },
  {
   "cell_type": "code",
   "execution_count": 64,
   "metadata": {},
   "outputs": [
    {
     "data": {
      "text/plain": [
       "['COVID-19', 'COVID-19, ARDS', 'Pneumocystis', 'SARS', 'Streptococcus']"
      ]
     },
     "execution_count": 64,
     "metadata": {},
     "output_type": "execute_result"
    }
   ],
   "source": [
    "classes_"
   ]
  },
  {
   "cell_type": "code",
   "execution_count": 73,
   "metadata": {},
   "outputs": [],
   "source": [
    "y = df['finding'].tolist()"
   ]
  },
  {
   "cell_type": "markdown",
   "metadata": {},
   "source": [
    "# Converting Text to vectors using TF-IDF"
   ]
  },
  {
   "cell_type": "code",
   "execution_count": 68,
   "metadata": {},
   "outputs": [],
   "source": [
    "vectorizer = TfidfVectorizer(min_df=2,max_df=0.95,stop_words='english',ngram_range=(1,1))\n",
    "X = vectorizer.fit_transform(final_notes)"
   ]
  },
  {
   "cell_type": "code",
   "execution_count": 69,
   "metadata": {},
   "outputs": [
    {
     "data": {
      "text/plain": [
       "(283, 902)"
      ]
     },
     "execution_count": 69,
     "metadata": {},
     "output_type": "execute_result"
    }
   ],
   "source": [
    "X.shape"
   ]
  },
  {
   "cell_type": "code",
   "execution_count": 70,
   "metadata": {},
   "outputs": [
    {
     "name": "stdout",
     "output_type": "stream",
     "text": [
      "['10', '100', '109', '11', '12', '13', '135', '14', '15', '150', '16', '17', '178', '19', '20', '200', '2019', '21', '22', '225', '23', '24', '25', '250', '25mmol', '27', '28', '28m', '29', '2a', '2b', '2nd', '30', '36', '36ld', '37', '37mmhg', '38', '38ºc', '39', '40', '420', '43', '44', '46', '47', '50', '52', '53', '60', '63', '65', '67000', '67ld', '69mmhg', '70', '71', '7250', '73', '74', '75', '82', '83', '85', '87', '88', '89', '8g', '90', '92', '93', '95', '96', '97', 'abdomen', 'abdominal', 'abnormality', 'absence', 'absorption', 'accentuation', 'access', 'accompanied', 'acquired', 'acute', 'adenopathy', 'administered', 'admission', 'admitted', 'adult', 'aeration', 'aged', 'agent', 'ago', 'air', 'airspace', 'airway', 'alert', 'alteration', 'alveolar', 'ambient', 'anamnesis', 'angiography', 'angle', 'anterior', 'anteroposterior', 'antibiotic', 'antiviral', 'ap', 'apical', 'apiretic', 'appear', 'appearance', 'appeared', 'appreciated', 'appropriate', 'apr', 'apyretic', 'ards', 'area', 'arranged', 'arrangement', 'arrives', 'arrow', 'arrowhead', 'arterial', 'artery', 'arthralgia', 'aspect', 'assessment', 'associated', 'asthenia', 'asthma', 'asymptomatic', 'atelectasis', 'attended', 'attenuation', 'atypical', 'auscultation', 'axial', 'bariatric', 'basal', 'base', 'baseline', 'basilar', 'bed', 'benefit', 'bi', 'bilateral', 'bilaterally', 'biochemistry', 'bipolar', 'blood', 'blurred', 'body', 'border', 'bowel', 'bp', 'bpm', 'breast', 'breath', 'breathing', 'brightness', 'bronchial', 'bronchogram', 'bronchograms', 'buffer', 'calcific', 'calcified', 'cardio', 'cardiomediastinal', 'care', 'case', 'catheter', 'caused', 'cavitating', 'cavitation', 'cd4', 'cell', 'cellsmm3', 'center', 'central', 'change', 'characteristic', 'chemistry', 'chest', 'china', 'circle', 'classic', 'clear', 'cleared', 'clearly', 'clinical', 'clip', 'close', 'cm', 'coarse', 'coarsening', 'collapse', 'combined', 'common', 'compare', 'complementary', 'computed', 'concentrated', 'concern', 'condensation', 'condition', 'confined', 'confirmed', 'confluent', 'confusion', 'considered', 'consistent', 'consolidation', 'consolidative', 'contact', 'context', 'contour', 'control', 'convalescent', 'copatologies', 'copd', 'coronal', 'coronary', 'coronavirus', 'correspondence', 'coryzal', 'cost', 'costal', 'costofrenic', 'costophrenic', 'cough', 'count', 'cov', 'covid', 'covid19', 'crackle', 'crazy', 'creatinine', 'crepitation', 'criterion', 'critical', 'crp', 'ct', 'cuffing', 'currently', 'cvc', 'cxr', 'cyst', 'daily', 'day', 'dea', 'decrease', 'decreased', 'defined', 'demonstrate', 'demonstrated', 'demonstrates', 'denies', 'dense', 'densitometric', 'density', 'deny', 'department', 'depicts', 'described', 'despite', 'detected', 'deteriorated', 'deterioration', 'develop', 'developed', 'developing', 'diabetes', 'diagnosis', 'diaphragmatic', 'diarrhea', 'diarrheal', 'did', 'died', 'difficulty', 'diffuse', 'diffusely', 'dilated', 'discharged', 'discrete', 'disease', 'displacement', 'displayed', 'distress', 'distributed', 'distribution', 'disventilation', 'dizziness', 'dl', 'doe', 'dose', 'drain', 'dry', 'dyslipidemia', 'dyspnea', 'dyspnoea', 'dysthymic', 'ed', 'edge', 'ee', 'effort', 'effusion', 'ega', 'elderly', 'elevated', 'emergency', 'endemic', 'endotracheal', 'enlarged', 'enlargement', 'entered', 'entering', 'enters', 'entrance', 'entry', 'epidemic', 'epidemiological', 'episode', 'esp', 'especially', 'et', 'ett', 'eupnoic', 'evening', 'evident', 'ex', 'examination', 'expanded', 'exposure', 'expression', 'extended', 'extending', 'extension', 'extensive', 'extent', 'failure', 'faint', 'fatigue', 'feature', 'february', 'female', 'fever', 'fibrinogen', 'fibrotic', 'fibrous', 'field', 'film', 'finding', 'fine', 'fissure', 'fit', 'florence', 'flow', 'flu', 'fluid', 'focal', 'focus', 'follow', 'following', 'form', 'frantic', 'free', 'friend', 'frontal', 'gas', 'gb', 'general', 'gerd', 'ggo', 'ggos', 'glass', 'glucose', 'granuloma', 'greater', 'ground', 'groundlass', 'ha', 'haematology', 'halo', 'hazy', 'hb', 'hco3', 'head', 'headache', 'heart', 'hemithorax', 'hemoglobin', 'high', 'highly', 'hilar', 'history', 'hite', 'hiv', 'home', 'hong', 'horizontal', 'hospital', 'hospitalization', 'hospitalized', 'hour', 'hr87', 'hx', 'hyperlucent', 'hyperpyrexia', 'hypertension', 'hypo', 'hypoxic', 'identified', 'ill', 'illness', 'image', 'improved', 'improvement', 'improves', 'incidentally', 'including', 'increase', 'increased', 'increasing', 'indicate', 'indicating', 'infection', 'infectious', 'infiltrate', 'infiltrates', 'infiltration', 'infiltrative', 'inflammatory', 'infrahilar', 'initial', 'initially', 'insertion', 'intensive', 'intercostal', 'interlobular', 'interstitial', 'interstitium', 'interval', 'intrathoracic', 'intravenous', 'intubated', 'intubation', 'investigation', 'involvement', 'involving', 'ionemia', 'irregular', 'italy', 'jan', 'january', 'jiroveci', 'jugular', 'just', 'known', 'kong', 'laboratory', 'large', 'later', 'lateral', 'laterobasal', 'ldh', 'le', 'leaving', 'left', 'lesion', 'leukocytosis', 'level', 'lid', 'light', 'like', 'likely', 'limit', 'limited', 'line', 'linear', 'lis', 'liter', 'little', 'lobar', 'lobe', 'lobular', 'local', 'located', 'loss', 'lost', 'low', 'lower', 'lowered', 'lung', 'lungs', 'lymph', 'lymphadenopathy', 'lymphocyte', 'lymphocytopenia', 'lymphopenia', 'mainly', 'malaise', 'male', 'man', 'management', 'manifesting', 'margin', 'marking', 'mass', 'measuring', 'mechanical', 'mediastinal', 'mediastinum', 'medical', 'medication', 'meet', 'mellitus', 'mg', 'mid', 'middle', 'midlower', 'midzone', 'mild', 'min', 'minor', 'mixed', 'ml', 'mm', 'moderate', 'multi', 'multifocal', 'multilobar', 'multiple', 'myalgia', 'nasal', 'nasogastric', 'nasopharyngeal', 'nature', 'nearly', 'need', 'negative', 'neutrophil', 'neutrophils', 'new', 'ng', 'nodal', 'node', 'nodular', 'nodule', 'noise', 'non', 'nonspecific', 'norm', 'normal', 'note', 'noted', 'nuanced', 'oblique', 'obliteration', 'obscured', 'observed', 'obstruction', 'obtained', 'obvious', 'odynophagia', 'oe', 'old', 'onset', 'opacies', 'opacification', 'opacity', 'oral', 'organism', 'organizing', 'outline', 'outlining', 'overlie', 'oxygen', 'oxygenation', 'pafi', 'pain', 'panlobar', 'pao2', 'paramediastinal', 'paratracheal', 'parenchyma', 'parenchymal', 'partially', 'particular', 'partly', 'past', 'patch', 'patchy', 'pathogen', 'pathological', 'pathologies', 'pathology', 'patient', 'patten', 'pattern', 'paving', 'pco2', 'pcp', 'pcr', 'pcs', 'people', 'performed', 'performs', 'peribronchial', 'peribronchovascular', 'peribroncovasal', 'peribroncovascular', 'perihilar', 'perilary', 'perilobular', 'peripheral', 'periphery', 'persist', 'persisted', 'persistent', 'ph', 'pharyngeal', 'phlogistic', 'phrenic', 'physical', 'picture', 'place', 'plain', 'platelets', 'pleura', 'pleural', 'plot', 'pneumatocele', 'pneumatocoeles', 'pneumocystis', 'pneumomediastinum', 'pneumonia', 'pneumoniae', 'pneumothorax', 'po', 'po2', 'portable', 'positioned', 'positive', 'possible', 'post', 'posterior', 'posteroanterior', 'posterobasal', 'pouring', 'predominance', 'predominant', 'predominantly', 'presence', 'present', 'presentation', 'presented', 'presents', 'preserved', 'pressure', 'previous', 'previously', 'primary', 'prior', 'probably', 'procalciton', 'procalcitonin', 'productive', 'progression', 'progressive', 'progressively', 'prominence', 'prominent', 'proportion', 'protein', 'ps', 'pulmonary', 'pure', 'pyrexia', 'ra', 'radiogram', 'radiograph', 'radiographic', 'radiography', 'radiological', 'range', 'rash', 'rate', 'ratio', 'ray', 'reactive', 'reason', 'rebreather', 'recent', 'red', 'reduced', 'reduction', 'reflect', 'region', 'regular', 'rehydration', 'relevant', 'remains', 'remote', 'report', 'reported', 'request', 'required', 'requiring', 'research', 'residual', 'resolution', 'resolved', 'resolving', 'respiratory', 'resuscitation', 'reticular', 'reticulation', 'retrospect', 'reveal', 'revealed', 'reverse', 'reversed', 'rib', 'right', 'rigor', 'risk', 'rml', 'rna', 'room', 'roughly', 'round', 'rounded', 'rr38', 'rul', 'sars', 'saturation', 'scan', 'scattered', 'seat', 'sedimentation', 'seen', 'segment', 'segmental', 'selected', 'sensation', 'sepsis', 'septal', 'sequence', 'serial', 'series', 'serotin', 'setting', 'severe', 'shadow', 'sharp', 'shortness', 'showed', 'showing', 'shown', 'sided', 'sign', 'significant', 'silent', 'similar', 'single', 'sinus', 'site', 'situ', 'size', 'slight', 'slightly', 'slowly', 'small', 'smaller', 'smoker', 'smoking', 'smooth', 'soalled', 'sob', 'sore', 'space', 'spare', 'sparing', 'spo2', 'spread', 'sputum', 'stable', 'stage', 'stand', 'standard', 'start', 'started', 'status', 'stay', 'steadily', 'steroid', 'streaky', 'streptococcus', 'structure', 'study', 'subject', 'subjected', 'subpleural', 'subsequent', 'subsequently', 'subtle', 'successful', 'suggest', 'suggesting', 'suggestive', 'superimposed', 'superior', 'superiorly', 'supine', 'supplemental', 'supplementation', 'support', 'surface', 'surgery', 'surgical', 'suspected', 'swab', 'symmetric', 'symptom', 'symptomatic', 'symptomatology', 'syndrome', 't39', 'tachycardic', 'tachypneic', 'tachypnoic', 'taken', 'tc', 'temperature', 'test', 'therapy', 'thickening', 'thoracic', 'thorax', 'throat', 'tightness', 'time', 'tissue', 'tomography', 'trachea', 'tracheal', 'transferred', 'transported', 'transverse', 'travel', 'traveled', 'travelled', 'treated', 'treatment', 'trip', 'tube', 'type', 'typical', 'ul', 'underestimated', 'unfortunate', 'unobstructed', 'untreated', 'upper', 'usually', 'vascular', 'venous', 'ventilated', 'ventilation', 'vertical', 'victim', 'vigevano', 'viral', 'visible', 'visualized', 'vn', 'volume', 'vomiting', 'wa', 'way', 'wbc', 'wedgehaped', 'week', 'weft', 'weight', 'wheeze', 'white', 'wide', 'widespread', 'woman', 'work', 'worse', 'worsening', 'worth', 'wuhan', 'xay', 'xr', 'year', 'young', 'zone']\n"
     ]
    }
   ],
   "source": [
    "print(vectorizer.get_feature_names())"
   ]
  },
  {
   "cell_type": "code",
   "execution_count": null,
   "metadata": {},
   "outputs": [],
   "source": []
  },
  {
   "cell_type": "code",
   "execution_count": null,
   "metadata": {},
   "outputs": [],
   "source": []
  },
  {
   "cell_type": "markdown",
   "metadata": {},
   "source": [
    "# Applying SMOTE Algorithm to balance the dataset"
   ]
  },
  {
   "cell_type": "code",
   "execution_count": 123,
   "metadata": {},
   "outputs": [],
   "source": [
    "from imblearn.over_sampling import SVMSMOTE, SMOTE"
   ]
  },
  {
   "cell_type": "code",
   "execution_count": 124,
   "metadata": {},
   "outputs": [],
   "source": [
    "#oversample = SVMSMOTE()"
   ]
  },
  {
   "cell_type": "code",
   "execution_count": 165,
   "metadata": {},
   "outputs": [
    {
     "data": {
      "text/html": [
       "<div>\n",
       "<style scoped>\n",
       "    .dataframe tbody tr th:only-of-type {\n",
       "        vertical-align: middle;\n",
       "    }\n",
       "\n",
       "    .dataframe tbody tr th {\n",
       "        vertical-align: top;\n",
       "    }\n",
       "\n",
       "    .dataframe thead th {\n",
       "        text-align: right;\n",
       "    }\n",
       "</style>\n",
       "<table border=\"1\" class=\"dataframe\">\n",
       "  <thead>\n",
       "    <tr style=\"text-align: right;\">\n",
       "      <th></th>\n",
       "      <th>10</th>\n",
       "      <th>100</th>\n",
       "      <th>109</th>\n",
       "      <th>11</th>\n",
       "      <th>12</th>\n",
       "      <th>13</th>\n",
       "      <th>135</th>\n",
       "      <th>14</th>\n",
       "      <th>15</th>\n",
       "      <th>150</th>\n",
       "      <th>...</th>\n",
       "      <th>work</th>\n",
       "      <th>worse</th>\n",
       "      <th>worsening</th>\n",
       "      <th>worth</th>\n",
       "      <th>wuhan</th>\n",
       "      <th>xay</th>\n",
       "      <th>xr</th>\n",
       "      <th>year</th>\n",
       "      <th>young</th>\n",
       "      <th>zone</th>\n",
       "    </tr>\n",
       "  </thead>\n",
       "  <tbody>\n",
       "    <tr>\n",
       "      <th>0</th>\n",
       "      <td>0.0</td>\n",
       "      <td>0.0</td>\n",
       "      <td>0.0</td>\n",
       "      <td>0.0</td>\n",
       "      <td>0.0</td>\n",
       "      <td>0.0</td>\n",
       "      <td>0.0</td>\n",
       "      <td>0.0</td>\n",
       "      <td>0.0</td>\n",
       "      <td>0.0</td>\n",
       "      <td>...</td>\n",
       "      <td>0.000000</td>\n",
       "      <td>0.0</td>\n",
       "      <td>0.0</td>\n",
       "      <td>0.0</td>\n",
       "      <td>0.0</td>\n",
       "      <td>0.0</td>\n",
       "      <td>0.0</td>\n",
       "      <td>0.0</td>\n",
       "      <td>0.0</td>\n",
       "      <td>0.000000</td>\n",
       "    </tr>\n",
       "    <tr>\n",
       "      <th>1</th>\n",
       "      <td>0.0</td>\n",
       "      <td>0.0</td>\n",
       "      <td>0.0</td>\n",
       "      <td>0.0</td>\n",
       "      <td>0.0</td>\n",
       "      <td>0.0</td>\n",
       "      <td>0.0</td>\n",
       "      <td>0.0</td>\n",
       "      <td>0.0</td>\n",
       "      <td>0.0</td>\n",
       "      <td>...</td>\n",
       "      <td>0.000000</td>\n",
       "      <td>0.0</td>\n",
       "      <td>0.0</td>\n",
       "      <td>0.0</td>\n",
       "      <td>0.0</td>\n",
       "      <td>0.0</td>\n",
       "      <td>0.0</td>\n",
       "      <td>0.0</td>\n",
       "      <td>0.0</td>\n",
       "      <td>0.000000</td>\n",
       "    </tr>\n",
       "    <tr>\n",
       "      <th>2</th>\n",
       "      <td>0.0</td>\n",
       "      <td>0.0</td>\n",
       "      <td>0.0</td>\n",
       "      <td>0.0</td>\n",
       "      <td>0.0</td>\n",
       "      <td>0.0</td>\n",
       "      <td>0.0</td>\n",
       "      <td>0.0</td>\n",
       "      <td>0.0</td>\n",
       "      <td>0.0</td>\n",
       "      <td>...</td>\n",
       "      <td>0.000000</td>\n",
       "      <td>0.0</td>\n",
       "      <td>0.0</td>\n",
       "      <td>0.0</td>\n",
       "      <td>0.0</td>\n",
       "      <td>0.0</td>\n",
       "      <td>0.0</td>\n",
       "      <td>0.0</td>\n",
       "      <td>0.0</td>\n",
       "      <td>0.000000</td>\n",
       "    </tr>\n",
       "    <tr>\n",
       "      <th>3</th>\n",
       "      <td>0.0</td>\n",
       "      <td>0.0</td>\n",
       "      <td>0.0</td>\n",
       "      <td>0.0</td>\n",
       "      <td>0.0</td>\n",
       "      <td>0.0</td>\n",
       "      <td>0.0</td>\n",
       "      <td>0.0</td>\n",
       "      <td>0.0</td>\n",
       "      <td>0.0</td>\n",
       "      <td>...</td>\n",
       "      <td>0.000000</td>\n",
       "      <td>0.0</td>\n",
       "      <td>0.0</td>\n",
       "      <td>0.0</td>\n",
       "      <td>0.0</td>\n",
       "      <td>0.0</td>\n",
       "      <td>0.0</td>\n",
       "      <td>0.0</td>\n",
       "      <td>0.0</td>\n",
       "      <td>0.000000</td>\n",
       "    </tr>\n",
       "    <tr>\n",
       "      <th>4</th>\n",
       "      <td>0.0</td>\n",
       "      <td>0.0</td>\n",
       "      <td>0.0</td>\n",
       "      <td>0.0</td>\n",
       "      <td>0.0</td>\n",
       "      <td>0.0</td>\n",
       "      <td>0.0</td>\n",
       "      <td>0.0</td>\n",
       "      <td>0.0</td>\n",
       "      <td>0.0</td>\n",
       "      <td>...</td>\n",
       "      <td>0.000000</td>\n",
       "      <td>0.0</td>\n",
       "      <td>0.0</td>\n",
       "      <td>0.0</td>\n",
       "      <td>0.0</td>\n",
       "      <td>0.0</td>\n",
       "      <td>0.0</td>\n",
       "      <td>0.0</td>\n",
       "      <td>0.0</td>\n",
       "      <td>0.000000</td>\n",
       "    </tr>\n",
       "    <tr>\n",
       "      <th>...</th>\n",
       "      <td>...</td>\n",
       "      <td>...</td>\n",
       "      <td>...</td>\n",
       "      <td>...</td>\n",
       "      <td>...</td>\n",
       "      <td>...</td>\n",
       "      <td>...</td>\n",
       "      <td>...</td>\n",
       "      <td>...</td>\n",
       "      <td>...</td>\n",
       "      <td>...</td>\n",
       "      <td>...</td>\n",
       "      <td>...</td>\n",
       "      <td>...</td>\n",
       "      <td>...</td>\n",
       "      <td>...</td>\n",
       "      <td>...</td>\n",
       "      <td>...</td>\n",
       "      <td>...</td>\n",
       "      <td>...</td>\n",
       "      <td>...</td>\n",
       "    </tr>\n",
       "    <tr>\n",
       "      <th>1115</th>\n",
       "      <td>0.0</td>\n",
       "      <td>0.0</td>\n",
       "      <td>0.0</td>\n",
       "      <td>0.0</td>\n",
       "      <td>0.0</td>\n",
       "      <td>0.0</td>\n",
       "      <td>0.0</td>\n",
       "      <td>0.0</td>\n",
       "      <td>0.0</td>\n",
       "      <td>0.0</td>\n",
       "      <td>...</td>\n",
       "      <td>0.000000</td>\n",
       "      <td>0.0</td>\n",
       "      <td>0.0</td>\n",
       "      <td>0.0</td>\n",
       "      <td>0.0</td>\n",
       "      <td>0.0</td>\n",
       "      <td>0.0</td>\n",
       "      <td>0.0</td>\n",
       "      <td>0.0</td>\n",
       "      <td>0.000000</td>\n",
       "    </tr>\n",
       "    <tr>\n",
       "      <th>1116</th>\n",
       "      <td>0.0</td>\n",
       "      <td>0.0</td>\n",
       "      <td>0.0</td>\n",
       "      <td>0.0</td>\n",
       "      <td>0.0</td>\n",
       "      <td>0.0</td>\n",
       "      <td>0.0</td>\n",
       "      <td>0.0</td>\n",
       "      <td>0.0</td>\n",
       "      <td>0.0</td>\n",
       "      <td>...</td>\n",
       "      <td>0.000000</td>\n",
       "      <td>0.0</td>\n",
       "      <td>0.0</td>\n",
       "      <td>0.0</td>\n",
       "      <td>0.0</td>\n",
       "      <td>0.0</td>\n",
       "      <td>0.0</td>\n",
       "      <td>0.0</td>\n",
       "      <td>0.0</td>\n",
       "      <td>0.000000</td>\n",
       "    </tr>\n",
       "    <tr>\n",
       "      <th>1117</th>\n",
       "      <td>0.0</td>\n",
       "      <td>0.0</td>\n",
       "      <td>0.0</td>\n",
       "      <td>0.0</td>\n",
       "      <td>0.0</td>\n",
       "      <td>0.0</td>\n",
       "      <td>0.0</td>\n",
       "      <td>0.0</td>\n",
       "      <td>0.0</td>\n",
       "      <td>0.0</td>\n",
       "      <td>...</td>\n",
       "      <td>0.000000</td>\n",
       "      <td>0.0</td>\n",
       "      <td>0.0</td>\n",
       "      <td>0.0</td>\n",
       "      <td>0.0</td>\n",
       "      <td>0.0</td>\n",
       "      <td>0.0</td>\n",
       "      <td>0.0</td>\n",
       "      <td>0.0</td>\n",
       "      <td>0.000000</td>\n",
       "    </tr>\n",
       "    <tr>\n",
       "      <th>1118</th>\n",
       "      <td>0.0</td>\n",
       "      <td>0.0</td>\n",
       "      <td>0.0</td>\n",
       "      <td>0.0</td>\n",
       "      <td>0.0</td>\n",
       "      <td>0.0</td>\n",
       "      <td>0.0</td>\n",
       "      <td>0.0</td>\n",
       "      <td>0.0</td>\n",
       "      <td>0.0</td>\n",
       "      <td>...</td>\n",
       "      <td>0.000000</td>\n",
       "      <td>0.0</td>\n",
       "      <td>0.0</td>\n",
       "      <td>0.0</td>\n",
       "      <td>0.0</td>\n",
       "      <td>0.0</td>\n",
       "      <td>0.0</td>\n",
       "      <td>0.0</td>\n",
       "      <td>0.0</td>\n",
       "      <td>0.065771</td>\n",
       "    </tr>\n",
       "    <tr>\n",
       "      <th>1119</th>\n",
       "      <td>0.0</td>\n",
       "      <td>0.0</td>\n",
       "      <td>0.0</td>\n",
       "      <td>0.0</td>\n",
       "      <td>0.0</td>\n",
       "      <td>0.0</td>\n",
       "      <td>0.0</td>\n",
       "      <td>0.0</td>\n",
       "      <td>0.0</td>\n",
       "      <td>0.0</td>\n",
       "      <td>...</td>\n",
       "      <td>0.084076</td>\n",
       "      <td>0.0</td>\n",
       "      <td>0.0</td>\n",
       "      <td>0.0</td>\n",
       "      <td>0.0</td>\n",
       "      <td>0.0</td>\n",
       "      <td>0.0</td>\n",
       "      <td>0.0</td>\n",
       "      <td>0.0</td>\n",
       "      <td>0.046511</td>\n",
       "    </tr>\n",
       "  </tbody>\n",
       "</table>\n",
       "<p>1120 rows × 902 columns</p>\n",
       "</div>"
      ],
      "text/plain": [
       "       10  100  109   11   12   13  135   14   15  150  ...      work  worse  \\\n",
       "0     0.0  0.0  0.0  0.0  0.0  0.0  0.0  0.0  0.0  0.0  ...  0.000000    0.0   \n",
       "1     0.0  0.0  0.0  0.0  0.0  0.0  0.0  0.0  0.0  0.0  ...  0.000000    0.0   \n",
       "2     0.0  0.0  0.0  0.0  0.0  0.0  0.0  0.0  0.0  0.0  ...  0.000000    0.0   \n",
       "3     0.0  0.0  0.0  0.0  0.0  0.0  0.0  0.0  0.0  0.0  ...  0.000000    0.0   \n",
       "4     0.0  0.0  0.0  0.0  0.0  0.0  0.0  0.0  0.0  0.0  ...  0.000000    0.0   \n",
       "...   ...  ...  ...  ...  ...  ...  ...  ...  ...  ...  ...       ...    ...   \n",
       "1115  0.0  0.0  0.0  0.0  0.0  0.0  0.0  0.0  0.0  0.0  ...  0.000000    0.0   \n",
       "1116  0.0  0.0  0.0  0.0  0.0  0.0  0.0  0.0  0.0  0.0  ...  0.000000    0.0   \n",
       "1117  0.0  0.0  0.0  0.0  0.0  0.0  0.0  0.0  0.0  0.0  ...  0.000000    0.0   \n",
       "1118  0.0  0.0  0.0  0.0  0.0  0.0  0.0  0.0  0.0  0.0  ...  0.000000    0.0   \n",
       "1119  0.0  0.0  0.0  0.0  0.0  0.0  0.0  0.0  0.0  0.0  ...  0.084076    0.0   \n",
       "\n",
       "      worsening  worth  wuhan  xay   xr  year  young      zone  \n",
       "0           0.0    0.0    0.0  0.0  0.0   0.0    0.0  0.000000  \n",
       "1           0.0    0.0    0.0  0.0  0.0   0.0    0.0  0.000000  \n",
       "2           0.0    0.0    0.0  0.0  0.0   0.0    0.0  0.000000  \n",
       "3           0.0    0.0    0.0  0.0  0.0   0.0    0.0  0.000000  \n",
       "4           0.0    0.0    0.0  0.0  0.0   0.0    0.0  0.000000  \n",
       "...         ...    ...    ...  ...  ...   ...    ...       ...  \n",
       "1115        0.0    0.0    0.0  0.0  0.0   0.0    0.0  0.000000  \n",
       "1116        0.0    0.0    0.0  0.0  0.0   0.0    0.0  0.000000  \n",
       "1117        0.0    0.0    0.0  0.0  0.0   0.0    0.0  0.000000  \n",
       "1118        0.0    0.0    0.0  0.0  0.0   0.0    0.0  0.065771  \n",
       "1119        0.0    0.0    0.0  0.0  0.0   0.0    0.0  0.046511  \n",
       "\n",
       "[1120 rows x 902 columns]"
      ]
     },
     "execution_count": 165,
     "metadata": {},
     "output_type": "execute_result"
    }
   ],
   "source": [
    "smt = SMOTE(k_neighbors=10)\n",
    "X_SMOTE, y_SMOTE = smt.fit_sample(X, y)\n",
    "pd.DataFrame(X_SMOTE.todense(), columns=vectorizer.get_feature_names())"
   ]
  },
  {
   "cell_type": "code",
   "execution_count": 166,
   "metadata": {},
   "outputs": [],
   "source": [
    "X_train, X_test, y_train, y_test = train_test_split( X_SMOTE, y_SMOTE, test_size=0.2,shuffle=True)"
   ]
  },
  {
   "cell_type": "markdown",
   "metadata": {},
   "source": [
    "# Training Classical Machine Learning Models"
   ]
  },
  {
   "cell_type": "code",
   "execution_count": 167,
   "metadata": {},
   "outputs": [],
   "source": [
    "models_f1 = []\n",
    "models_f1.append((LogisticRegression()))\n",
    "#models.append(('GSearch', LinearDiscriminantAnalysis()))\n",
    "models_f1.append(( KNeighborsClassifier()))\n",
    "models_f1.append((DecisionTreeClassifier()))\n",
    "models_f1.append((MultinomialNB()))\n",
    "models_f1.append((SVC(kernel=\"linear\", C=0.1,probability=True)))\n",
    "models_f1.append((RandomForestClassifier()))\n",
    "models_f1.append((AdaBoostClassifier()))"
   ]
  },
  {
   "cell_type": "code",
   "execution_count": 168,
   "metadata": {},
   "outputs": [
    {
     "name": "stdout",
     "output_type": "stream",
     "text": [
      "==============================\n",
      "LogisticRegression\n",
      "****Results****\n",
      "Accuracy: 99.5536%\n",
      "****F1 score,Precision and recall****\n",
      "f1_score: 0.9950587158761628 , Precison: 0.9952380952380953, Recall: 0.9949999999999999, Individual_f1: [0.98734177 1.         1.         1.         0.98795181]\n",
      "***confusion matrix****\n"
     ]
    },
    {
     "data": {
      "image/png": "[encoded data removed]",
      "text/plain": [
       "<Figure size 432x288 with 2 Axes>"
      ]
     },
     "metadata": {
      "needs_background": "light"
     },
     "output_type": "display_data"
    },
    {
     "name": "stdout",
     "output_type": "stream",
     "text": [
      "Log Loss: 0.13544484520766678\n",
      "==============================\n",
      "KNeighborsClassifier\n",
      "****Results****\n",
      "Accuracy: 88.3929%\n",
      "****F1 score,Precision and recall****\n",
      "f1_score: 0.8519340424303383 , Precison: 0.9032461982461983, Recall: 0.8699999999999999, Individual_f1: [0.51851852 0.90756303 0.95327103 0.92682927 0.95348837]\n",
      "***confusion matrix****\n"
     ]
    },
    {
     "data": {
      "image/png": "[encoded data removed]",
      "text/plain": [
       "<Figure size 432x288 with 2 Axes>"
      ]
     },
     "metadata": {
      "needs_background": "light"
     },
     "output_type": "display_data"
    },
    {
     "name": "stdout",
     "output_type": "stream",
     "text": [
      "Log Loss: 1.3686732850195078\n",
      "==============================\n",
      "DecisionTreeClassifier\n",
      "****Results****\n",
      "Accuracy: 98.6607%\n",
      "****F1 score,Precision and recall****\n",
      "f1_score: 0.9860738561094713 , Precison: 0.9861883214824392, Recall: 0.9860784313725489, Individual_f1: [0.96202532 1.         0.98039216 1.         0.98795181]\n",
      "***confusion matrix****\n"
     ]
    },
    {
     "data": {
      "image/png": "[encoded data removed]",
      "text/plain": [
       "<Figure size 432x288 with 2 Axes>"
      ]
     },
     "metadata": {
      "needs_background": "light"
     },
     "output_type": "display_data"
    },
    {
     "name": "stdout",
     "output_type": "stream",
     "text": [
      "Log Loss: 0.4625728981461297\n",
      "==============================\n",
      "MultinomialNB\n",
      "****Results****\n",
      "Accuracy: 95.5357%\n",
      "****F1 score,Precision and recall****\n",
      "f1_score: 0.9497673736227954 , Precison: 0.9581169905896816, Recall: 0.95, Individual_f1: [0.85714286 0.97297297 0.98076923 0.95       0.98795181]\n",
      "***confusion matrix****\n"
     ]
    },
    {
     "data": {
      "image/png": "[encoded data removed]",
      "text/plain": [
       "<Figure size 432x288 with 2 Axes>"
      ]
     },
     "metadata": {
      "needs_background": "light"
     },
     "output_type": "display_data"
    },
    {
     "name": "stdout",
     "output_type": "stream",
     "text": [
      "Log Loss: 0.12953959099903942\n",
      "==============================\n",
      "SVC\n",
      "****Results****\n",
      "Accuracy: 100.0000%\n",
      "****F1 score,Precision and recall****\n",
      "f1_score: 1.0 , Precison: 1.0, Recall: 1.0, Individual_f1: [1. 1. 1. 1. 1.]\n",
      "***confusion matrix****\n"
     ]
    },
    {
     "data": {
      "image/png": "[encoded data removed]",
      "text/plain": [
       "<Figure size 432x288 with 2 Axes>"
      ]
     },
     "metadata": {
      "needs_background": "light"
     },
     "output_type": "display_data"
    },
    {
     "name": "stdout",
     "output_type": "stream",
     "text": [
      "Log Loss: 0.022073931378831395\n",
      "==============================\n",
      "RandomForestClassifier\n",
      "****Results****\n",
      "Accuracy: 100.0000%\n",
      "****F1 score,Precision and recall****\n",
      "f1_score: 1.0 , Precison: 1.0, Recall: 1.0, Individual_f1: [1. 1. 1. 1. 1.]\n",
      "***confusion matrix****\n"
     ]
    },
    {
     "data": {
      "image/png": "[encoded data removed]",
      "text/plain": [
       "<Figure size 432x288 with 2 Axes>"
      ]
     },
     "metadata": {
      "needs_background": "light"
     },
     "output_type": "display_data"
    },
    {
     "name": "stdout",
     "output_type": "stream",
     "text": [
      "Log Loss: 0.03669363485224687\n",
      "==============================\n",
      "AdaBoostClassifier\n",
      "****Results****\n",
      "Accuracy: 81.2500%\n",
      "****F1 score,Precision and recall****\n",
      "f1_score: 0.7451517025543 , Precison: 0.7825, Recall: 0.7943137254901961, Individual_f1: [0.08888889 1.         0.95918367 1.         0.67768595]\n",
      "***confusion matrix****\n"
     ]
    },
    {
     "data": {
      "image/png": "[encoded data removed]",
      "text/plain": [
       "<Figure size 432x288 with 2 Axes>"
      ]
     },
     "metadata": {
      "needs_background": "light"
     },
     "output_type": "display_data"
    },
    {
     "name": "stdout",
     "output_type": "stream",
     "text": [
      "Log Loss: 0.49137385362950736\n"
     ]
    }
   ],
   "source": [
    "from sklearn.metrics import confusion_matrix\n",
    "import matplotlib.pyplot as plt\n",
    "%matplotlib inline\n",
    "log_cols=[\"Classifier\", \"Accuracy\", \"Log Loss\"]\n",
    "log = pd.DataFrame(columns=log_cols)\n",
    "for clf in models_f1:\n",
    "    clf.fit(X_train, y_train)\n",
    "    name = clf.__class__.__name__\n",
    "   \n",
    "    print(\"=\"*30)\n",
    "    print(name)\n",
    "   \n",
    "    print('****Results****')\n",
    "    train_predictions = clf.predict(X_test)\n",
    "    acc = accuracy_score(y_test, train_predictions)\n",
    "    print(\"Accuracy: {:.4%}\".format(acc))\n",
    "   \n",
    "    print('****F1 score,Precision and recall****')\n",
    "    f1_score = sklearn.metrics.f1_score(y_test, train_predictions,average='macro')\n",
    "    Precision = sklearn.metrics.precision_score(y_test, train_predictions,average='macro')\n",
    "    Recall = sklearn.metrics.recall_score(y_test, train_predictions,average='macro')\n",
    "    individual_f1 = sklearn.metrics.f1_score(y_test, train_predictions, average=None)\n",
    "    print(\"f1_score: {} , Precison: {}, Recall: {}, Individual_f1: {}\".format(f1_score,Precision,Recall,individual_f1))\n",
    "   \n",
    "    print('***confusion matrix****')\n",
    "    classes = classes_\n",
    "    cm = confusion_matrix(y_test, train_predictions)\n",
    "    fig, ax = plt.subplots()\n",
    "    cmap=plt.cm.Blues\n",
    "    im = ax.imshow(cm, interpolation='nearest', cmap=cmap)\n",
    "    ax.figure.colorbar(im, ax=ax)\n",
    "  \n",
    "    ax.set(xticks=np.arange(cm.shape[1]),\n",
    "           yticks=np.arange(cm.shape[0]),\n",
    "           \n",
    "           xticklabels=classes, yticklabels=classes,\n",
    "           title=\"Non normaized table\",\n",
    "           ylabel='True label',\n",
    "           xlabel='Predicted label')\n",
    "\n",
    "    \n",
    "    plt.setp(ax.get_xticklabels(), rotation=45, ha=\"right\",\n",
    "             rotation_mode=\"anchor\")\n",
    "\n",
    "    normalize = False\n",
    "    fmt = '.2f' if normalize else 'd'\n",
    "    thresh = cm.max() / 2.\n",
    "    for i in range(cm.shape[0]):\n",
    "        for j in range(cm.shape[1]):\n",
    "            ax.text(j, i, format(cm[i, j], fmt),\n",
    "                    ha=\"center\", va=\"center\",\n",
    "                    color=\"white\" if cm[i, j] > thresh else \"black\")\n",
    "    fig.tight_layout()\n",
    "    plt.show()\n",
    "   \n",
    "    train_predictions = clf.predict_proba(X_test)\n",
    "    ll = log_loss(y_test, train_predictions)\n",
    "    print(\"Log Loss: {}\".format(ll))\n",
    "   \n",
    "    log_entry = pd.DataFrame([[name, acc*100, ll]], columns=log_cols)\n",
    "    log = log.append(log_entry)"
   ]
  },
  {
   "cell_type": "code",
   "execution_count": null,
   "metadata": {},
   "outputs": [],
   "source": []
  },
  {
   "cell_type": "markdown",
   "metadata": {},
   "source": [
    "# Training a neural network model"
   ]
  },
  {
   "cell_type": "code",
   "execution_count": 169,
   "metadata": {},
   "outputs": [],
   "source": [
    "mcp = ModelCheckpoint(\"checkpoint\", monitor=\"val_acc\",\n",
    "                      save_best_only=True, save_weights_only=False)"
   ]
  },
  {
   "cell_type": "code",
   "execution_count": 170,
   "metadata": {},
   "outputs": [],
   "source": [
    "\n",
    "class myCallback(tf.keras.callbacks.Callback):\n",
    "  def on_epoch_end(self, epoch, logs={}):\n",
    "    if(logs.get('accuracy')==1.0):\n",
    "      print(\"\\nReached 100% accuracy so cancelling training!\")\n",
    "      self.model.stop_training = True"
   ]
  },
  {
   "cell_type": "code",
   "execution_count": 171,
   "metadata": {},
   "outputs": [],
   "source": [
    "cb = myCallback()"
   ]
  },
  {
   "cell_type": "code",
   "execution_count": 172,
   "metadata": {},
   "outputs": [
    {
     "data": {
      "text/plain": [
       "(896, 902)"
      ]
     },
     "execution_count": 172,
     "metadata": {},
     "output_type": "execute_result"
    }
   ],
   "source": [
    "X_train.shape"
   ]
  },
  {
   "cell_type": "code",
   "execution_count": 173,
   "metadata": {},
   "outputs": [
    {
     "name": "stderr",
     "output_type": "stream",
     "text": [
      "d:\\anaconda\\envs\\deeplearning\\lib\\site-packages\\ipykernel_launcher.py:2: UserWarning: Update your `Dense` call to the Keras 2 API: `Dense(64, input_dim=902, kernel_initializer=\"uniform\")`\n",
      "  \n",
      "d:\\anaconda\\envs\\deeplearning\\lib\\site-packages\\ipykernel_launcher.py:6: UserWarning: The `nb_epoch` argument in `fit` has been renamed `epochs`.\n",
      "  \n"
     ]
    },
    {
     "name": "stdout",
     "output_type": "stream",
     "text": [
      "Train on 716 samples, validate on 180 samples\n",
      "Epoch 1/100\n",
      "716/716 [==============================] - 0s 663us/step - loss: 1.4402 - accuracy: 0.7444 - val_loss: 1.2468 - val_accuracy: 0.8556\n",
      "Epoch 2/100\n",
      "716/716 [==============================] - 0s 179us/step - loss: 1.0246 - accuracy: 0.9399 - val_loss: 0.8577 - val_accuracy: 0.8889\n",
      "Epoch 3/100\n",
      "448/716 [=================>............] - ETA: 0s - loss: 0.7152 - accuracy: 0.9464"
     ]
    },
    {
     "name": "stderr",
     "output_type": "stream",
     "text": [
      "d:\\anaconda\\envs\\deeplearning\\lib\\site-packages\\keras\\callbacks\\callbacks.py:707: RuntimeWarning: Can save best model only with val_acc available, skipping.\n",
      "  'skipping.' % (self.monitor), RuntimeWarning)\n"
     ]
    },
    {
     "name": "stdout",
     "output_type": "stream",
     "text": [
      "716/716 [==============================] - 0s 167us/step - loss: 0.6525 - accuracy: 0.9637 - val_loss: 0.5628 - val_accuracy: 0.9333\n",
      "Epoch 4/100\n",
      "716/716 [==============================] - 0s 184us/step - loss: 0.4045 - accuracy: 0.9860 - val_loss: 0.3754 - val_accuracy: 0.9611\n",
      "Epoch 5/100\n",
      "716/716 [==============================] - 0s 160us/step - loss: 0.2545 - accuracy: 0.9958 - val_loss: 0.2575 - val_accuracy: 0.9944\n",
      "Epoch 6/100\n",
      "716/716 [==============================] - 0s 158us/step - loss: 0.1677 - accuracy: 0.9986 - val_loss: 0.1833 - val_accuracy: 1.0000\n",
      "Epoch 7/100\n",
      "716/716 [==============================] - 0s 165us/step - loss: 0.1159 - accuracy: 0.9986 - val_loss: 0.1390 - val_accuracy: 1.0000\n",
      "Epoch 8/100\n",
      "716/716 [==============================] - 0s 223us/step - loss: 0.0838 - accuracy: 1.0000 - val_loss: 0.1099 - val_accuracy: 1.0000\n",
      "\n",
      "Reached 100% accuracy so cancelling training!\n"
     ]
    }
   ],
   "source": [
    "model = Sequential()\n",
    "model.add(Dense(64,input_dim=X_train.shape[1], init='uniform'))#,activation = 'LeakyRelu'))\n",
    "model.add(LeakyReLU(alpha=0.1))\n",
    "model.add(Dense(5, activation = 'softmax'))\n",
    "model.compile(loss='sparse_categorical_crossentropy', optimizer='adam', metrics=['accuracy'])\n",
    "history = model.fit(X_train, y_train, nb_epoch=100,validation_split=0.2,callbacks=[mcp,cb])"
   ]
  },
  {
   "cell_type": "code",
   "execution_count": 174,
   "metadata": {},
   "outputs": [
    {
     "name": "stdout",
     "output_type": "stream",
     "text": [
      "224/224 [==============================] - 0s 83us/step\n"
     ]
    },
    {
     "data": {
      "text/plain": [
       "[0.1009187740939004, 0.9955357313156128]"
      ]
     },
     "execution_count": 174,
     "metadata": {},
     "output_type": "execute_result"
    }
   ],
   "source": [
    "model.evaluate(X_test,y_test)"
   ]
  },
  {
   "cell_type": "code",
   "execution_count": 175,
   "metadata": {},
   "outputs": [],
   "source": [
    "y_pred = model.predict_classes(X_test)"
   ]
  },
  {
   "cell_type": "code",
   "execution_count": 176,
   "metadata": {},
   "outputs": [
    {
     "data": {
      "text/plain": [
       "array([0, 1, 1, 0, 2, 1, 3, 4, 4, 2, 1, 1, 1, 1, 4, 4, 4, 4, 3, 2, 2, 3,\n",
       "       0, 0, 4, 4, 2, 4, 4, 3, 4, 4, 1, 0, 3, 3, 2, 4, 0, 4, 0, 1, 3, 3,\n",
       "       2, 2, 1, 2, 3, 3, 1, 0, 3, 2, 1, 2, 0, 2, 1, 2, 0, 3, 1, 1, 1, 2,\n",
       "       4, 4, 3, 4, 4, 3, 4, 0, 2, 0, 3, 1, 0, 0, 1, 4, 1, 2, 1, 0, 4, 2,\n",
       "       4, 3, 1, 2, 0, 3, 3, 4, 4, 2, 4, 1, 1, 2, 0, 3, 2, 3, 1, 4, 0, 1,\n",
       "       1, 1, 2, 3, 3, 2, 4, 4, 4, 2, 0, 1, 4, 4, 2, 0, 0, 2, 4, 0, 2, 0,\n",
       "       1, 2, 2, 4, 0, 2, 4, 4, 4, 2, 0, 0, 2, 3, 3, 1, 2, 1, 2, 1, 2, 3,\n",
       "       2, 2, 4, 0, 4, 1, 1, 3, 4, 4, 4, 1, 0, 0, 1, 3, 2, 1, 3, 1, 2, 2,\n",
       "       0, 0, 0, 3, 4, 3, 2, 3, 2, 3, 3, 2, 3, 0, 0, 3, 0, 0, 1, 0, 3, 2,\n",
       "       1, 1, 2, 0, 1, 1, 1, 1, 2, 1, 3, 3, 1, 1, 1, 1, 2, 1, 1, 2, 2, 2,\n",
       "       1, 1, 0, 2], dtype=int64)"
      ]
     },
     "execution_count": 176,
     "metadata": {},
     "output_type": "execute_result"
    }
   ],
   "source": [
    "y_pred\n"
   ]
  },
  {
   "cell_type": "code",
   "execution_count": 177,
   "metadata": {},
   "outputs": [
    {
     "data": {
      "text/plain": [
       "array([0, 1, 1, 0, 2, 1, 3, 4, 4, 2, 1, 1, 1, 1, 4, 4, 4, 4, 3, 2, 2, 3,\n",
       "       0, 0, 4, 4, 2, 4, 4, 3, 4, 4, 1, 0, 3, 3, 2, 4, 0, 4, 0, 1, 3, 3,\n",
       "       2, 2, 1, 2, 3, 3, 1, 0, 3, 2, 1, 2, 0, 2, 1, 2, 0, 3, 1, 1, 1, 2,\n",
       "       4, 4, 3, 4, 4, 3, 0, 0, 2, 0, 3, 1, 0, 0, 1, 4, 1, 2, 1, 0, 4, 2,\n",
       "       4, 3, 1, 2, 0, 3, 3, 4, 4, 2, 4, 1, 1, 2, 0, 3, 2, 3, 1, 4, 0, 1,\n",
       "       1, 1, 2, 3, 3, 2, 4, 4, 4, 2, 0, 1, 4, 4, 2, 0, 0, 2, 4, 0, 2, 0,\n",
       "       1, 2, 2, 4, 0, 2, 4, 4, 4, 2, 0, 0, 2, 3, 3, 1, 2, 1, 2, 1, 2, 3,\n",
       "       2, 2, 4, 0, 4, 1, 1, 3, 4, 4, 4, 1, 0, 0, 1, 3, 2, 1, 3, 1, 2, 2,\n",
       "       0, 0, 0, 3, 4, 3, 2, 3, 2, 3, 3, 2, 3, 0, 0, 3, 0, 0, 1, 0, 3, 2,\n",
       "       1, 1, 2, 0, 1, 1, 1, 1, 2, 1, 3, 3, 1, 1, 1, 1, 2, 1, 1, 2, 2, 2,\n",
       "       1, 1, 0, 2])"
      ]
     },
     "execution_count": 177,
     "metadata": {},
     "output_type": "execute_result"
    }
   ],
   "source": [
    "np.array(y_test)"
   ]
  },
  {
   "cell_type": "code",
   "execution_count": 178,
   "metadata": {},
   "outputs": [
    {
     "data": {
      "text/plain": [
       "['COVID-19', 'COVID-19, ARDS', 'Pneumocystis', 'SARS', 'Streptococcus']"
      ]
     },
     "execution_count": 178,
     "metadata": {},
     "output_type": "execute_result"
    }
   ],
   "source": [
    "classes_"
   ]
  },
  {
   "cell_type": "code",
   "execution_count": 179,
   "metadata": {},
   "outputs": [],
   "source": [
    "from sklearn.metrics import classification_report, confusion_matrix,plot_confusion_matrix"
   ]
  },
  {
   "cell_type": "code",
   "execution_count": 180,
   "metadata": {},
   "outputs": [
    {
     "name": "stdout",
     "output_type": "stream",
     "text": [
      "****F1 score,Precision and recall****\n",
      "f1_score: 0.9950587158761628 , Precison: 0.9952380952380953, Recall: 0.9949999999999999, Individual_f1: [0.98734177 1.         1.         1.         0.98795181]\n",
      "***confusion matrix****\n"
     ]
    },
    {
     "data": {
      "image/png": "[encoded data removed]",
      "text/plain": [
       "<Figure size 432x288 with 2 Axes>"
      ]
     },
     "metadata": {
      "needs_background": "light"
     },
     "output_type": "display_data"
    }
   ],
   "source": [
    "import sklearn \n",
    "from sklearn.metrics import confusion_matrix\n",
    "import matplotlib.pyplot as plt\n",
    "%matplotlib inline\n",
    "\n",
    "\n",
    "\n",
    "\n",
    "\n",
    "print('****F1 score,Precision and recall****')\n",
    "f1_score = sklearn.metrics.f1_score(y_test, y_pred,average='macro')\n",
    "Precision = sklearn.metrics.precision_score(y_test,y_pred,average='macro')\n",
    "Recall = sklearn.metrics.recall_score(y_test,y_pred,average='macro')\n",
    "individual_f1 = sklearn.metrics.f1_score(y_test, y_pred, average=None)\n",
    "print(\"f1_score: {} , Precison: {}, Recall: {}, Individual_f1: {}\".format(f1_score,Precision,Recall,individual_f1))\n",
    "\n",
    "print('***confusion matrix****')\n",
    "classes = classes_\n",
    "cm = confusion_matrix(y_test, y_pred)\n",
    "fig, ax = plt.subplots()\n",
    "cmap=plt.cm.Blues\n",
    "im = ax.imshow(cm, interpolation='nearest', cmap=cmap)\n",
    "ax.figure.colorbar(im, ax=ax)\n",
    "\n",
    "ax.set(xticks=np.arange(cm.shape[1]),\n",
    "       yticks=np.arange(cm.shape[0]),\n",
    "\n",
    "       xticklabels=classes, yticklabels=classes,\n",
    "       title=\"Non normaized table\",\n",
    "       ylabel='True label',\n",
    "       xlabel='Predicted label')\n",
    "\n",
    "\n",
    "plt.setp(ax.get_xticklabels(), rotation=45, ha=\"right\",\n",
    "         rotation_mode=\"anchor\")\n",
    "\n",
    "normalize = False\n",
    "fmt = '.2f' if normalize else 'd'\n",
    "thresh = cm.max() / 2.\n",
    "for i in range(cm.shape[0]):\n",
    "    for j in range(cm.shape[1]):\n",
    "        ax.text(j, i, format(cm[i, j], fmt),\n",
    "                ha=\"center\", va=\"center\",\n",
    "                color=\"white\" if cm[i, j] > thresh else \"black\")\n",
    "fig.tight_layout()\n",
    "plt.show()"
   ]
  },
  {
   "cell_type": "markdown",
   "metadata": {},
   "source": [
    "# Saving and loading the model for inference "
   ]
  },
  {
   "cell_type": "code",
   "execution_count": 190,
   "metadata": {},
   "outputs": [],
   "source": [
    "#saving model\n",
    "model.save(\"model_nn.h5\")\n",
    "\n",
    "#saving vectors\n",
    "pickle.dump(vectorizer, open('tfidf_vec.pkl', 'wb'))"
   ]
  },
  {
   "cell_type": "code",
   "execution_count": 230,
   "metadata": {},
   "outputs": [],
   "source": [
    "#loading saved model and saved vectorizer\n",
    "\n",
    "import keras\n",
    "from keras.models import load_model\n",
    "model_ = tf.keras.models.load_model('model_nn.h5')\n",
    "tfidf_vectorizer = joblib.load(\"tfidf_vec.pkl\")"
   ]
  },
  {
   "cell_type": "code",
   "execution_count": 227,
   "metadata": {},
   "outputs": [
    {
     "data": {
      "text/plain": [
       "('Serial radiographic appearances in a 23-year-old woman with SARS, type 1 pattern. Follow-up frontal chest radiograph obtained 5 days later shows progression of radiographic changes, with multifocal bilateral air-space opacities in both lungs.',\n",
       " 'SARS')"
      ]
     },
     "execution_count": 227,
     "metadata": {},
     "output_type": "execute_result"
    }
   ],
   "source": [
    "#taking a sample SARS clinical report\n",
    "\n",
    "df['clinical_notes'].iloc[280], classes[df['finding'].iloc[280]]"
   ]
  },
  {
   "cell_type": "code",
   "execution_count": 238,
   "metadata": {},
   "outputs": [],
   "source": [
    "date_remove = rem_date([df['clinical_notes'].iloc[280]])\n",
    "punc_remove = rem_punc(date_remove)\n",
    "lem_text = word_lem(punc_remove)"
   ]
  },
  {
   "cell_type": "code",
   "execution_count": 239,
   "metadata": {},
   "outputs": [],
   "source": [
    "text_vector = tfidf_vectorizer.transform(lem_text)"
   ]
  },
  {
   "cell_type": "code",
   "execution_count": 240,
   "metadata": {},
   "outputs": [
    {
     "data": {
      "text/plain": [
       "(1, 902)"
      ]
     },
     "execution_count": 240,
     "metadata": {},
     "output_type": "execute_result"
    }
   ],
   "source": [
    "text_vector.shape"
   ]
  },
  {
   "cell_type": "code",
   "execution_count": 243,
   "metadata": {},
   "outputs": [
    {
     "data": {
      "text/plain": [
       "'SARS'"
      ]
     },
     "execution_count": 243,
     "metadata": {},
     "output_type": "execute_result"
    }
   ],
   "source": [
    "classes[model.predict_classes(text_vector)[0]]"
   ]
  },
  {
   "cell_type": "code",
   "execution_count": null,
   "metadata": {},
   "outputs": [],
   "source": []
  }
 ],
 "metadata": {
  "kernelspec": {
   "display_name": "Python 3",
   "language": "python",
   "name": "python3"
  },
  "language_info": {
   "codemirror_mode": {
    "name": "ipython",
    "version": 3
   },
   "file_extension": ".py",
   "mimetype": "text/x-python",
   "name": "python",
   "nbconvert_exporter": "python",
   "pygments_lexer": "ipython3",
   "version": "3.7.7"
  }
 },
 "nbformat": 4,
 "nbformat_minor": 4
}
